{
 "cells": [
  {
   "cell_type": "markdown",
   "metadata": {},
   "source": [
    "# Decompositions Playground\n",
    "\n",
    "Given an integer number, $target$, we want to get all the possible combinations of at most $k$ smaller _standard_ numbers that sum up to the target number. However this problem is just a special case of the problem of finding all the possible combinations of a set of given numbers so, let start calculating the universe of all the possible combinations."
   ]
  },
  {
   "cell_type": "markdown",
   "metadata": {},
   "source": [
    "# The Algorithm\n",
    "\n",
    "Starting with an empty set ${ }$, we use it as a template to be extended by each of the _standard denominations_ smaller or equal than the tail element of the template set and as result we obtains a new set of template sets. For example:\n",
    "\n",
    "```\n",
    "take {} and extend:\n",
    "{10}\n",
    "{9}\n",
    "{8}\n",
    "{6}\n",
    "... (continue)\n",
    "```\n",
    "\n",
    "Then we repeat the process for each new template set, this means, take a template set and extend it with each of the _standard denominations_. For example:\n",
    "\n",
    "```\n",
    "take {10} and extend\n",
    "{10, 10}\n",
    "{10, 9}\n",
    "{10, 8}\n",
    "{10, 6}\n",
    ".... (continue)\n",
    "take {9} and extend\n",
    "{9, 9}\n",
    "{9, 8}\n",
    "{9, 6}\n",
    "... (and so on)\n",
    "```\n",
    "\n",
    "Basically it is a recursive process that builds the new template sets by appending each of the _standard denominations_, smaller or equal than the tail element of the template set, to each of the template sets.\n",
    "\n",
    "# Implementation"
   ]
  },
  {
   "cell_type": "markdown",
   "metadata": {},
   "source": [
    "Lets calculate the the decompositions of $k = 3$ and $std_denominations = [1, 2, 3, 4, 5, 6, 8, 9, 10]$"
   ]
  },
  {
   "cell_type": "code",
   "execution_count": 85,
   "metadata": {
    "dotnet_interactive": {
     "language": "csharp"
    }
   },
   "outputs": [],
   "source": [
    "// Parameters\n",
    "let denoms = [| 10; 9; 8; 6; 5; 4; 3; 2; 1 |]\n",
    "\n",
    "// Other parameters we will use much later\n",
    "let target = 21\n",
    "let tolerance = 1"
   ]
  },
  {
   "cell_type": "markdown",
   "metadata": {},
   "source": [
    "But before start let create a helper method to print all the decompositions. This will help us to reduce the noise in our code (c# is already too noisy for this kind of tasks)"
   ]
  },
  {
   "cell_type": "code",
   "execution_count": 86,
   "metadata": {
    "dotnet_interactive": {
     "language": "csharp"
    }
   },
   "outputs": [],
   "source": [
    "#!fsharp\n",
    "let printx (sequencex: seq<int list>) : unit =\n",
    "    for s in sequencex do\n",
    "        printfn \"Sum: %d %A\" (s |> Seq.sum) s"
   ]
  },
  {
   "cell_type": "markdown",
   "metadata": {},
   "source": [
    "And this is the *code*:"
   ]
  },
  {
   "cell_type": "code",
   "execution_count": 87,
   "metadata": {
    "dotnet_interactive": {
     "language": "csharp"
    }
   },
   "outputs": [
    {
     "name": "stdout",
     "output_type": "stream",
     "text": [
      "Sum: 30 [10; 10; 10]\n",
      "Sum: 29 [9; 10; 10]\n",
      "Sum: 28 [8; 10; 10]\n",
      "Sum: 26 [6; 10; 10]\n",
      "Sum: 25 [5; 10; 10]\n",
      "Sum: 24 [4; 10; 10]\n",
      "Sum: 23 [3; 10; 10]\n",
      "Sum: 22 [2; 10; 10]\n",
      "Sum: 21 [1; 10; 10]\n",
      "Sum: 28 [9; 9; 10]\n",
      "Sum: 27 [8; 9; 10]\n",
      "Sum: 25 [6; 9; 10]\n",
      "Sum: 24 [5; 9; 10]\n",
      "Sum: 23 [4; 9; 10]\n",
      "Sum: 22 [3; 9; 10]\n",
      "Sum: 21 [2; 9; 10]\n",
      "Sum: 20 [1; 9; 10]\n",
      "Sum: 26 [8; 8; 10]\n",
      "Sum: 24 [6; 8; 10]\n",
      "Sum: 23 [5; 8; 10]\n",
      "Sum: 22 [4; 8; 10]\n",
      "Sum: 21 [3; 8; 10]\n",
      "Sum: 20 [2; 8; 10]\n",
      "Sum: 19 [1; 8; 10]\n",
      "Sum: 22 [6; 6; 10]\n",
      "Sum: 21 [5; 6; 10]\n",
      "Sum: 20 [4; 6; 10]\n",
      "Sum: 19 [3; 6; 10]\n",
      "Sum: 18 [2; 6; 10]\n",
      "Sum: 17 [1; 6; 10]\n",
      "Sum: 20 [5; 5; 10]\n",
      "Sum: 19 [4; 5; 10]\n",
      "Sum: 18 [3; 5; 10]\n",
      "Sum: 17 [2; 5; 10]\n",
      "Sum: 16 [1; 5; 10]\n",
      "Sum: 18 [4; 4; 10]\n",
      "Sum: 17 [3; 4; 10]\n",
      "Sum: 16 [2; 4; 10]\n",
      "Sum: 15 [1; 4; 10]\n",
      "Sum: 16 [3; 3; 10]\n",
      "Sum: 15 [2; 3; 10]\n",
      "Sum: 14 [1; 3; 10]\n",
      "Sum: 14 [2; 2; 10]\n",
      "Sum: 13 [1; 2; 10]\n",
      "Sum: 12 [1; 1; 10]\n"
     ]
    },
    {
     "data": {
      "text/html": [
       "<null>"
      ]
     },
     "execution_count": 87,
     "metadata": {},
     "output_type": "execute_result"
    }
   ],
   "source": [
    "let rec Comb1 acc k denoms : seq<int list> =\n",
    "    let acc = (denoms |> Array.head) :: acc\n",
    "    if k = 0\n",
    "        then seq { acc }\n",
    "        else seq { 0..denoms.Length-1 } |> Seq.collect (fun i -> Comb1 acc (k - 1) denoms.[ i.. ])\n",
    "\n",
    "printx (Comb1 [] 2 denoms)"
   ]
  },
  {
   "cell_type": "markdown",
   "metadata": {},
   "source": [
    "# Compute only those sets that sum up to a target value (or less)\n",
    "\n",
    "The trick here is to limit the set of _standard denominations_ the algorithm can use in each iteration. For example, imagine the target is $25$:\n",
    "\n",
    "| target | set            | sum  | remaining | standard denominations available |\n",
    "|-------:|---------------:|-----:|----------:|---------------------------------:|\n",
    "|     25 |         { 10 } |   10 |        15 |  { 10, 9 , 8, 6, 5, 4, 3, 2, 1 } |\n",
    "|     15 |     { 10, 10 } |   20 |         5 |                { 5, 4, 3, 2, 1 } |\n",
    "|      5 | { 10, 10,  5 } |   25 |         0 |                              { } |\n",
    "\n",
    "Below we have the code that filters those values that are too big to be explored."
   ]
  },
  {
   "cell_type": "code",
   "execution_count": 88,
   "metadata": {
    "dotnet_interactive": {
     "language": "csharp"
    }
   },
   "outputs": [
    {
     "name": "stdout",
     "output_type": "stream",
     "text": [
      "Sum: 21 [1; 10; 10]\n",
      "Sum: 21 [2; 9; 10]\n",
      "Sum: 20 [1; 9; 10]\n",
      "Sum: 21 [3; 8; 10]\n",
      "Sum: 20 [2; 8; 10]\n",
      "Sum: 19 [1; 8; 10]\n",
      "Sum: 21 [5; 6; 10]\n",
      "Sum: 20 [4; 6; 10]\n",
      "Sum: 19 [3; 6; 10]\n",
      "Sum: 18 [2; 6; 10]\n",
      "Sum: 17 [1; 6; 10]\n",
      "Sum: 20 [5; 5; 10]\n",
      "Sum: 19 [4; 5; 10]\n",
      "Sum: 18 [3; 5; 10]\n",
      "Sum: 17 [2; 5; 10]\n",
      "Sum: 16 [1; 5; 10]\n",
      "Sum: 18 [4; 4; 10]\n",
      "Sum: 17 [3; 4; 10]\n",
      "Sum: 16 [2; 4; 10]\n",
      "Sum: 15 [1; 4; 10]\n",
      "Sum: 16 [3; 3; 10]\n",
      "Sum: 15 [2; 3; 10]\n",
      "Sum: 14 [1; 3; 10]\n",
      "Sum: 14 [2; 2; 10]\n",
      "Sum: 13 [1; 2; 10]\n",
      "Sum: 12 [1; 1; 10]\n"
     ]
    },
    {
     "data": {
      "text/html": [
       "<null>"
      ]
     },
     "execution_count": 88,
     "metadata": {},
     "output_type": "execute_result"
    }
   ],
   "source": [
    "let rec Comb2 target acc k denoms : seq<int list> =\n",
    "    let cur = denoms |> Array.head\n",
    "    let acc = cur :: acc\n",
    "    let remaining = target - cur\n",
    "    if k = 0\n",
    "        then seq { acc }\n",
    "        else \n",
    "            let candidates = denoms |> Array.skipWhile (fun x -> x > remaining)\n",
    "            seq { 0..candidates.Length-1 } |> Seq.collect (fun i -> Comb2 remaining acc (k - 1) candidates.[ i.. ])\n",
    "\n",
    "printx (Comb2 21 [] 2 denoms)"
   ]
  },
  {
   "cell_type": "markdown",
   "metadata": {},
   "source": [
    "This is better because it doesn't generate lots and lots of unnecessary combinations but it still has one problems and it is that it still generates lots and lots of useless combinations because their sum is too far from the expected target. It is important to abort the generation of those combinations once we know they are not possible.\n",
    "\n",
    "For example, imagine we want to generate decompositions of $k=3$ that sum up to 12 using our previously define _standard denominations_. Imagine we are generating the first set:\n",
    "\n",
    "| target | set            | sum  | remaining | denominations available | can continue? |\n",
    "|-------:|---------------:|-----:|----------:|---------------------------------:|---------------\n",
    "|     12 |         { 10 } |   10 |         2 |  { 2, 1 } | Yes. Because there are space for 2 extra elements and 2 * 2 >= 2 (remaining). |\n",
    "|     12 |     {  6,  3 } |    9 |         3 |  { 3, 2, 1 } | Yes. Because there is space for 1 extra elements and 1 * 3 >= 3 (remaining).\n",
    "|     12 |     {  5,  3 } |    8 |         4 |  { 3, 2, 1 } | No. Because there is space for 1 extra elements and 1 * 3 < 4 (remaining)."
   ]
  },
  {
   "cell_type": "markdown",
   "metadata": {},
   "source": [
    "This is much much better because now we get the only 8 decompositions that sum up to 21. However, not all numbers can be expressed as the sum of other smaller positive numbers. Imagine our _standard denominations_ are just ${ 100, 50, 25, 10, 5 }$, in this case it is impossible to represent the number $21$.\n",
    "\n",
    "For this reason we need to introduce the concept of _tolerance_, defined as the acceptable difference between the expected target and the one obteined as the result of the sum of the combination individual elements."
   ]
  },
  {
   "cell_type": "markdown",
   "metadata": {},
   "source": [
    "# Do not explore further once a much is find\n",
    "\n",
    "This version looks better, right? But if take a look at the 3rd result ($[10, 9, 1]$ = 20) we should ask why!? What's the point of that combination? Clearly if we explore the combinations in expanding the template (accumulator) with standard denominations in descending order then, it is silly to continue searching for combinations once we have already found one exact much because all the subsecuent combinations will sum less."
   ]
  },
  {
   "cell_type": "markdown",
   "metadata": {},
   "source": [
    "We will need a linq extension to make the code look easier. `TakeUnti` is a method that takes a sequence and returns a sequence of elements until a condition is met with the first element that meets the condition included."
   ]
  },
  {
   "cell_type": "code",
   "execution_count": 89,
   "metadata": {},
   "outputs": [
    {
     "ename": "Unhandled Exception",
     "evalue": "input.fsx (8,92)-(8,101) typecheck error The type 'int []' does not match the type 'int'",
     "output_type": "error",
     "traceback": [
      "input.fsx (8,92)-(8,101) typecheck error The type 'int []' does not match the type 'int'"
     ]
    }
   ],
   "source": [
    "let rec combination currentDenomination localTarget tolerance accumulator k denoms =\n",
    "    let acc = currentDenomination :: accumulator\n",
    "    let remaining = localTarget - currentDenomination\n",
    "    if k = 0 || remaining < tolerance\n",
    "        then seq { acc }\n",
    "        else\n",
    "            let nextDenoms = denoms |> Array.filter (fun x-> x <= remaining && k * x >= (remaining - tolerance))\n",
    "            seq { 0..nextDenoms.Length-1 } |> Seq.collect (fun i -> combination nextDenoms remaining tolerance acc (k - 1) nextDenoms.[ i.. ])\n"
   ]
  },
  {
   "cell_type": "code",
   "execution_count": null,
   "metadata": {
    "dotnet_interactive": {
     "language": "csharp"
    }
   },
   "outputs": [],
   "source": [
    "IEnumerable<ImmutableList<long>> CombinationsUptoAndPruneWithTolerance2(long currentDenomination, long target, long localTarget, long tolerance, ImmutableList<long> accumulator, int k, long[] denoms)\n",
    "{\n",
    "\taccumulator = accumulator.Add(currentDenomination);\n",
    "\tvar remaining = localTarget - currentDenomination;\n",
    "\tif (k == 0 || remaining < tolerance)\n",
    "\t\treturn new[] { accumulator };\n",
    "\t\n",
    "\tdenoms = denoms.Where(x => x <= remaining).ToArray();\n",
    "\treturn denoms\n",
    "\t\t.TakeWhile(std => k * std >= remaining - tolerance)\n",
    "\t\t.SelectMany((std, i) => \n",
    "\t\t\tCombinationsUptoAndPruneWithTolerance2(std, target, remaining, tolerance, accumulator, k - 1, denoms[i..])\n",
    "\t\t\t.TakeUntil(x => x.Sum() == target));\n",
    "}\n",
    "\n",
    "Print(denoms.SelectMany((std, i) => CombinationsUptoAndPruneWithTolerance2(std, target, target, tolerance, initialState, k - 1, denoms[i..])));"
   ]
  },
  {
   "cell_type": "markdown",
   "metadata": {},
   "source": []
  },
  {
   "cell_type": "markdown",
   "metadata": {},
   "source": [
    "# Optimization (first part)\n",
    "\n",
    "In all previous code snippets we have used an `ImmutableList` as accumulator bacause it makes an efficient usage of memory given it is implemented with Avl trees. However, we want to reduce the heap allocations and total memory usage as much as possible what is doable if we introduce some assumptions:\n",
    "\n",
    "* $k$ will never be greater than $8$ and,\n",
    "* $len(standarddenoms)$ will never be larger than $2^8$\n",
    "\n",
    "With this we can use an `ulong` to store the indexes of the _standard denomination_ instead of their values. \n",
    "\n"
   ]
  },
  {
   "cell_type": "code",
   "execution_count": null,
   "metadata": {
    "dotnet_interactive": {
     "language": "csharp"
    }
   },
   "outputs": [],
   "source": [
    "IEnumerable<(long Sum, ulong Decomposition)> CompactCombinationsOfIndexesUptoAndPruneWithTolerance(int currentDenominationIdx, long target, long localTarget, long tolerance, ulong accumulator, long sum, int k, long[] denoms)\n",
    "{\n",
    "\taccumulator = (accumulator << 8) | ((ulong)currentDenominationIdx & 0xff);\n",
    "\tvar currentDenomination = denoms[currentDenominationIdx];\n",
    "\tsum += currentDenomination;\n",
    "\tvar remaining = localTarget - currentDenomination;\n",
    "\tif (k == 0 || remaining < tolerance)\n",
    "\t\treturn new[] { (sum, accumulator) };\n",
    "\n",
    "\tcurrentDenominationIdx += denoms.Skip(currentDenominationIdx).Count(x => x > remaining);\n",
    "\treturn Enumerable.Range(0, denoms.Length - currentDenominationIdx)\n",
    "\t\t.TakeWhile(i => k * denoms[currentDenominationIdx + i] >= remaining - tolerance)\n",
    "\t\t.SelectMany((_, i) => \n",
    "\t\t\tCompactCombinationsOfIndexesUptoAndPruneWithTolerance(currentDenominationIdx + i, target, remaining, tolerance, accumulator, sum, k - 1, denoms)\n",
    "\t\t\t.TakeUntil(x => x.Sum == target));\n",
    "}\n",
    "\n"
   ]
  },
  {
   "cell_type": "code",
   "execution_count": null,
   "metadata": {
    "dotnet_interactive": {
     "language": "csharp"
    }
   },
   "outputs": [],
   "source": [
    "void Print(IEnumerable<(long Sum, ulong Decomposition)> decompositions)\n",
    "{\n",
    "\tforeach (var (composition, row) in decompositions.Select((x,r) => (x, r)))\n",
    "\t{\n",
    "\t\tvar indexes = BitConverter.GetBytes(composition.Decomposition);\n",
    "\t\tvar remaining = composition.Sum;\n",
    "\t\tvar i = 0;\n",
    "\t\tvar list = new List<long>();\n",
    "\t\tdo\n",
    "\t\t{\n",
    "\t\t\tvar val = denoms[indexes[i++]];\n",
    "\t\t\tlist.Insert(0, val);\n",
    "\t\t\tremaining -= val;\n",
    "\t\t}while(remaining > 0);\n",
    "\t\tConsole.WriteLine(\"#{0} Sum: {1} -> [{2}]\", row, composition.Sum, string.Join(\", \", list));\n",
    "\t}\n",
    "}"
   ]
  },
  {
   "cell_type": "code",
   "execution_count": null,
   "metadata": {
    "dotnet_interactive": {
     "language": "csharp"
    }
   },
   "outputs": [],
   "source": [
    "Print(denoms.SelectMany((_, i) => CompactCombinationsOfIndexesUptoAndPruneWithTolerance(i, target, target, tolerance, 0ul, 0, k - 1, denoms)));"
   ]
  },
  {
   "cell_type": "code",
   "execution_count": null,
   "metadata": {
    "dotnet_interactive": {
     "language": "csharp"
    }
   },
   "outputs": [],
   "source": [
    "IEnumerable<(long Sum, ulong Decomposition)> cx(int currentDenominationIdx, long target, long localTarget, long tolerance, ulong accumulator, long sum, int k, long[] denoms)\n",
    "{\n",
    "\taccumulator = (accumulator << 8) | ((ulong)currentDenominationIdx & 0xff);\n",
    "\tvar currentDenomination = denoms[currentDenominationIdx];\n",
    "\tsum += currentDenomination;\n",
    "\tvar remaining = localTarget - currentDenomination;\n",
    "\tif (k == 0 || remaining < tolerance)\n",
    "\t\treturn new[] { (sum, accumulator) };\n",
    "\n",
    "\tcurrentDenominationIdx += denoms.Skip(currentDenominationIdx).Count(x => x > remaining);\n",
    "\treturn Enumerable.Range(0, denoms.Length - currentDenominationIdx)\n",
    "\t\t.TakeWhile(i => k * denoms[currentDenominationIdx + i] >= remaining - tolerance)\n",
    "\t\t.SelectMany((_, i) => \n",
    "\t\t\tcx(currentDenominationIdx + i, target, remaining, tolerance, accumulator, sum, k - 1, denoms)\n",
    "\t\t\t.TakeUntil(x => x.Sum == target));\n",
    "}\n",
    "\n",
    "\n",
    "Print(denoms.SelectMany((_, i) => cx(i, target, target, tolerance, 0ul, 0, k - 1, denoms)));\n"
   ]
  },
  {
   "cell_type": "markdown",
   "metadata": {},
   "source": [
    "We have now a higher quality result set but the code is a bit hard to follow basically because of the long list of parameters but that can be improved easily. Let start by extracting those that are constant."
   ]
  },
  {
   "cell_type": "code",
   "execution_count": 103,
   "metadata": {},
   "outputs": [
    {
     "data": {
      "text/html": [
       "<table><thead><tr><th><i>index</i></th><th>Item1</th><th>Item2</th></tr></thead><tbody><tr><td>0</td><td>21</td><td>8</td></tr><tr><td>1</td><td>21</td><td>263</td></tr><tr><td>2</td><td>20</td><td>264</td></tr><tr><td>3</td><td>21</td><td>518</td></tr><tr><td>4</td><td>20</td><td>519</td></tr><tr><td>5</td><td>21</td><td>772</td></tr><tr><td>6</td><td>20</td><td>773</td></tr><tr><td>7</td><td>20</td><td>1028</td></tr><tr><td>8</td><td>21</td><td>65798</td></tr><tr><td>9</td><td>20</td><td>65799</td></tr><tr><td>10</td><td>21</td><td>66053</td></tr><tr><td>11</td><td>20</td><td>66054</td></tr><tr><td>12</td><td>21</td><td>66307</td></tr><tr><td>13</td><td>20</td><td>66308</td></tr><tr><td>14</td><td>21</td><td>131588</td></tr><tr><td>15</td><td>20</td><td>131589</td></tr><tr><td>16</td><td>20</td><td>131843</td></tr></tbody></table>"
      ]
     },
     "execution_count": 103,
     "metadata": {},
     "output_type": "execute_result"
    }
   ],
   "source": [
    "let combx target tolerance maxlength (denoms: int[]) =\n",
    "    let rec icombx currentDenominationIdx accumulator sum k =\n",
    "        let new_acc = (accumulator <<< 8) ||| (currentDenominationIdx &&& 0xff)\n",
    "        let new_sum = sum + denoms.[ currentDenominationIdx ]\n",
    "        let remaining = target - new_sum\n",
    "        if k = 0 || remaining < tolerance\n",
    "            then seq { (new_sum, new_acc) }\n",
    "            else\n",
    "                let new_denominationIdx = currentDenominationIdx + (denoms.[currentDenominationIdx..] |> Array.filter (fun x -> x > remaining) |> Array.length)\n",
    "                seq { 0..(denoms.Length - new_denominationIdx - 1) }\n",
    "                |> Seq.takeWhile (fun i -> k * denoms.[new_denominationIdx + i] >= remaining - tolerance)\n",
    "                |> Seq.collect (fun i -> icombx (new_denominationIdx + i) new_acc new_sum (k - 1))\n",
    "\n",
    "    seq { 0..denoms.Length-1 } |> Seq.collect (fun i -> icombx i 0 0 (maxlength - 1))\n",
    "\n",
    "(combx 21 1 3 denoms)"
   ]
  }
 ],
 "metadata": {
  "kernelspec": {
   "display_name": ".NET (F#)",
   "language": "F#",
   "name": ".net-fsharp"
  },
  "language_info": {
   "file_extension": ".fs",
   "mimetype": "text/x-fsharp",
   "name": "C#",
   "pygments_lexer": "fsharp",
   "version": "4.5"
  }
 },
 "nbformat": 4,
 "nbformat_minor": 2
}

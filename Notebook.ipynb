{
 "cells": [
  {
   "cell_type": "markdown",
   "metadata": {},
   "source": [
    "# Decompositions Playground\n",
    "\n",
    "Given an integer number, $target$, we want to get all the possible combinations of at most $k$ smaller _standard_ numbers that sum up to the target number. However this problem is just a special case of the problem of finding all the possible combinations of a set of given numbers so, let start calculating the universe of all the possible combinations."
   ]
  },
  {
   "cell_type": "markdown",
   "metadata": {},
   "source": [
    "# The Algorithm\n",
    "\n",
    "Starting with an empty set ${ }$, we use it as a template to be extended by each of the _standard denominations_ smaller or equal than the tail element of the template set and as result we obtains a new set of template sets. For example:\n",
    "\n",
    "```\n",
    "take {} and extend:\n",
    "{10}\n",
    "{9}\n",
    "{8}\n",
    "{6}\n",
    "... (continue)\n",
    "```\n",
    "\n",
    "Then we repeat the process for each new template set, this means, take a template set and extend it with each of the _standard denominations_. For example:\n",
    "\n",
    "```\n",
    "take {10} and extend\n",
    "{10, 10}\n",
    "{10, 9}\n",
    "{10, 8}\n",
    "{10, 6}\n",
    ".... (continue)\n",
    "take {9} and extend\n",
    "{9, 9}\n",
    "{9, 8}\n",
    "{9, 6}\n",
    "... (and so on)\n",
    "```\n",
    "\n",
    "Basically it is a recursive process that builds the new template sets by appending each of the _standard denominations_, smaller or equal than the tail element of the template set, to each of the template sets.\n",
    "\n",
    "# Implementation"
   ]
  },
  {
   "cell_type": "markdown",
   "metadata": {},
   "source": [
    "Lets calculate the the decompositions of $k = 3$ and $std_denominations = [1, 2, 3, 4, 5, 6, 8, 9, 10]$"
   ]
  },
  {
   "cell_type": "code",
   "execution_count": null,
   "metadata": {
    "dotnet_interactive": {
     "language": "csharp"
    }
   },
   "outputs": [],
   "source": [
    "using System.Collections.Immutable;\n",
    "\n",
    "// Parameters\n",
    "var denoms = new long[] { 10, 9, 8, 6, 5, 4, 3, 2, 1 };\n",
    "var initialState = ImmutableList<long>.Empty;\n",
    "var k = 3;  // the maximum number of elements in a decomposition.\n",
    "\n",
    "// Other parameters we will use much later\n",
    "var target = 21;\n",
    "var tolerance = 1;"
   ]
  },
  {
   "cell_type": "markdown",
   "metadata": {},
   "source": [
    "But before start let create a helper method to print all the decompositions. This will help us to reduce the noise in our code (c# is already too noisy for this kind of tasks)"
   ]
  },
  {
   "cell_type": "code",
   "execution_count": null,
   "metadata": {
    "dotnet_interactive": {
     "language": "csharp"
    }
   },
   "outputs": [],
   "source": [
    "void Print(IEnumerable<ImmutableList<long>> decompositions)\n",
    "{\n",
    "\tforeach (var composition in decompositions)\n",
    "\t\tConsole.WriteLine(\"Sum: {0} -> [{1}]\", composition.Sum(), string.Join(\", \", composition));\t\n",
    "}"
   ]
  },
  {
   "cell_type": "markdown",
   "metadata": {},
   "source": [
    "And this is the *code*:"
   ]
  },
  {
   "cell_type": "code",
   "execution_count": null,
   "metadata": {
    "dotnet_interactive": {
     "language": "csharp"
    }
   },
   "outputs": [
    {
     "name": "stdout",
     "output_type": "stream",
     "text": [
      "Sum: 30 -> [10, 10, 10]\n",
      "Sum: 29 -> [10, 10, 9]\n",
      "Sum: 28 -> [10, 10, 8]\n",
      "Sum: 26 -> [10, 10, 6]\n",
      "Sum: 25 -> [10, 10, 5]\n",
      "Sum: 24 -> [10, 10, 4]\n",
      "Sum: 23 -> [10, 10, 3]\n",
      "Sum: 22 -> [10, 10, 2]\n",
      "Sum: 21 -> [10, 10, 1]\n",
      "Sum: 28 -> [10, 9, 9]\n",
      "Sum: 27 -> [10, 9, 8]\n",
      "Sum: 25 -> [10, 9, 6]\n",
      "Sum: 24 -> [10, 9, 5]\n",
      "Sum: 23 -> [10, 9, 4]\n",
      "Sum: 22 -> [10, 9, 3]\n",
      "Sum: 21 -> [10, 9, 2]\n",
      "Sum: 20 -> [10, 9, 1]\n",
      "Sum: 26 -> [10, 8, 8]\n",
      "Sum: 24 -> [10, 8, 6]\n",
      "Sum: 23 -> [10, 8, 5]\n",
      "Sum: 22 -> [10, 8, 4]\n",
      "Sum: 21 -> [10, 8, 3]\n",
      "Sum: 20 -> [10, 8, 2]\n",
      "Sum: 19 -> [10, 8, 1]\n",
      "Sum: 22 -> [10, 6, 6]\n",
      "Sum: 21 -> [10, 6, 5]\n",
      "Sum: 20 -> [10, 6, 4]\n",
      "Sum: 19 -> [10, 6, 3]\n",
      "Sum: 18 -> [10, 6, 2]\n",
      "Sum: 17 -> [10, 6, 1]\n",
      "Sum: 20 -> [10, 5, 5]\n",
      "Sum: 19 -> [10, 5, 4]\n",
      "Sum: 18 -> [10, 5, 3]\n",
      "Sum: 17 -> [10, 5, 2]\n",
      "Sum: 16 -> [10, 5, 1]\n",
      "Sum: 18 -> [10, 4, 4]\n",
      "Sum: 17 -> [10, 4, 3]\n",
      "Sum: 16 -> [10, 4, 2]\n",
      "Sum: 15 -> [10, 4, 1]\n",
      "Sum: 16 -> [10, 3, 3]\n",
      "Sum: 15 -> [10, 3, 2]\n",
      "Sum: 14 -> [10, 3, 1]\n",
      "Sum: 14 -> [10, 2, 2]\n",
      "Sum: 13 -> [10, 2, 1]\n",
      "Sum: 12 -> [10, 1, 1]\n",
      "Sum: 27 -> [9, 9, 9]\n",
      "Sum: 26 -> [9, 9, 8]\n",
      "Sum: 24 -> [9, 9, 6]\n",
      "Sum: 23 -> [9, 9, 5]\n",
      "Sum: 22 -> [9, 9, 4]\n",
      "Sum: 21 -> [9, 9, 3]\n",
      "Sum: 20 -> [9, 9, 2]\n",
      "Sum: 19 -> [9, 9, 1]\n",
      "Sum: 25 -> [9, 8, 8]\n",
      "Sum: 23 -> [9, 8, 6]\n",
      "Sum: 22 -> [9, 8, 5]\n",
      "Sum: 21 -> [9, 8, 4]\n",
      "Sum: 20 -> [9, 8, 3]\n",
      "Sum: 19 -> [9, 8, 2]\n",
      "Sum: 18 -> [9, 8, 1]\n",
      "Sum: 21 -> [9, 6, 6]\n",
      "Sum: 20 -> [9, 6, 5]\n",
      "Sum: 19 -> [9, 6, 4]\n",
      "Sum: 18 -> [9, 6, 3]\n",
      "Sum: 17 -> [9, 6, 2]\n",
      "Sum: 16 -> [9, 6, 1]\n",
      "Sum: 19 -> [9, 5, 5]\n",
      "Sum: 18 -> [9, 5, 4]\n",
      "Sum: 17 -> [9, 5, 3]\n",
      "Sum: 16 -> [9, 5, 2]\n",
      "Sum: 15 -> [9, 5, 1]\n",
      "Sum: 17 -> [9, 4, 4]\n",
      "Sum: 16 -> [9, 4, 3]\n",
      "Sum: 15 -> [9, 4, 2]\n",
      "Sum: 14 -> [9, 4, 1]\n",
      "Sum: 15 -> [9, 3, 3]\n",
      "Sum: 14 -> [9, 3, 2]\n",
      "Sum: 13 -> [9, 3, 1]\n",
      "Sum: 13 -> [9, 2, 2]\n",
      "Sum: 12 -> [9, 2, 1]\n",
      "Sum: 11 -> [9, 1, 1]\n",
      "Sum: 24 -> [8, 8, 8]\n",
      "Sum: 22 -> [8, 8, 6]\n",
      "Sum: 21 -> [8, 8, 5]\n",
      "Sum: 20 -> [8, 8, 4]\n",
      "Sum: 19 -> [8, 8, 3]\n",
      "Sum: 18 -> [8, 8, 2]\n",
      "Sum: 17 -> [8, 8, 1]\n",
      "Sum: 20 -> [8, 6, 6]\n",
      "Sum: 19 -> [8, 6, 5]\n",
      "Sum: 18 -> [8, 6, 4]\n",
      "Sum: 17 -> [8, 6, 3]\n",
      "Sum: 16 -> [8, 6, 2]\n",
      "Sum: 15 -> [8, 6, 1]\n",
      "Sum: 18 -> [8, 5, 5]\n",
      "Sum: 17 -> [8, 5, 4]\n",
      "Sum: 16 -> [8, 5, 3]\n",
      "Sum: 15 -> [8, 5, 2]\n",
      "Sum: 14 -> [8, 5, 1]\n",
      "Sum: 16 -> [8, 4, 4]\n",
      "Sum: 15 -> [8, 4, 3]\n",
      "Sum: 14 -> [8, 4, 2]\n",
      "Sum: 13 -> [8, 4, 1]\n",
      "Sum: 14 -> [8, 3, 3]\n",
      "Sum: 13 -> [8, 3, 2]\n",
      "Sum: 12 -> [8, 3, 1]\n",
      "Sum: 12 -> [8, 2, 2]\n",
      "Sum: 11 -> [8, 2, 1]\n",
      "Sum: 10 -> [8, 1, 1]\n",
      "Sum: 18 -> [6, 6, 6]\n",
      "Sum: 17 -> [6, 6, 5]\n",
      "Sum: 16 -> [6, 6, 4]\n",
      "Sum: 15 -> [6, 6, 3]\n",
      "Sum: 14 -> [6, 6, 2]\n",
      "Sum: 13 -> [6, 6, 1]\n",
      "Sum: 16 -> [6, 5, 5]\n",
      "Sum: 15 -> [6, 5, 4]\n",
      "Sum: 14 -> [6, 5, 3]\n",
      "Sum: 13 -> [6, 5, 2]\n",
      "Sum: 12 -> [6, 5, 1]\n",
      "Sum: 14 -> [6, 4, 4]\n",
      "Sum: 13 -> [6, 4, 3]\n",
      "Sum: 12 -> [6, 4, 2]\n",
      "Sum: 11 -> [6, 4, 1]\n",
      "Sum: 12 -> [6, 3, 3]\n",
      "Sum: 11 -> [6, 3, 2]\n",
      "Sum: 10 -> [6, 3, 1]\n",
      "Sum: 10 -> [6, 2, 2]\n",
      "Sum: 9 -> [6, 2, 1]\n",
      "Sum: 8 -> [6, 1, 1]\n",
      "Sum: 15 -> [5, 5, 5]\n",
      "Sum: 14 -> [5, 5, 4]\n",
      "Sum: 13 -> [5, 5, 3]\n",
      "Sum: 12 -> [5, 5, 2]\n",
      "Sum: 11 -> [5, 5, 1]\n",
      "Sum: 13 -> [5, 4, 4]\n",
      "Sum: 12 -> [5, 4, 3]\n",
      "Sum: 11 -> [5, 4, 2]\n",
      "Sum: 10 -> [5, 4, 1]\n",
      "Sum: 11 -> [5, 3, 3]\n",
      "Sum: 10 -> [5, 3, 2]\n",
      "Sum: 9 -> [5, 3, 1]\n",
      "Sum: 9 -> [5, 2, 2]\n",
      "Sum: 8 -> [5, 2, 1]\n",
      "Sum: 7 -> [5, 1, 1]\n",
      "Sum: 12 -> [4, 4, 4]\n",
      "Sum: 11 -> [4, 4, 3]\n",
      "Sum: 10 -> [4, 4, 2]\n",
      "Sum: 9 -> [4, 4, 1]\n",
      "Sum: 10 -> [4, 3, 3]\n",
      "Sum: 9 -> [4, 3, 2]\n",
      "Sum: 8 -> [4, 3, 1]\n",
      "Sum: 8 -> [4, 2, 2]\n",
      "Sum: 7 -> [4, 2, 1]\n",
      "Sum: 6 -> [4, 1, 1]\n",
      "Sum: 9 -> [3, 3, 3]\n",
      "Sum: 8 -> [3, 3, 2]\n",
      "Sum: 7 -> [3, 3, 1]\n",
      "Sum: 7 -> [3, 2, 2]\n",
      "Sum: 6 -> [3, 2, 1]\n",
      "Sum: 5 -> [3, 1, 1]\n",
      "Sum: 6 -> [2, 2, 2]\n",
      "Sum: 5 -> [2, 2, 1]\n",
      "Sum: 4 -> [2, 1, 1]\n",
      "Sum: 3 -> [1, 1, 1]\n"
     ]
    }
   ],
   "source": [
    "IEnumerable<ImmutableList<long>> Combinations1(long currentDenomination, ImmutableList<long> accumulator, int k, long[] denoms) =>\n",
    "\tk == 0\n",
    "\t\t? new[] { accumulator.Add(currentDenomination) }\n",
    "\t\t: denoms.SelectMany((std, i) => Combinations1(std, accumulator.Add(currentDenomination), k - 1, denoms[i..]));\n",
    "\n",
    "Print(denoms.SelectMany((std, i) => Combinations1(std, initialState, k - 1, denoms[i..])));"
   ]
  },
  {
   "cell_type": "markdown",
   "metadata": {},
   "source": [
    "# Compute only those sets that sum up to a target value (or less)\n",
    "\n",
    "The trick here is to limit the set of _standard denominations_ the algorithm can use in each iteration. For example, imagine the target is $25$:\n",
    "\n",
    "| target | set            | sum  | remaining | standard denominations available |\n",
    "|-------:|---------------:|-----:|----------:|---------------------------------:|\n",
    "|     25 |         { 10 } |   10 |        15 |  { 10, 9 , 8, 6, 5, 4, 3, 2, 1 } |\n",
    "|     15 |     { 10, 10 } |   20 |         5 |                { 5, 4, 3, 2, 1 } |\n",
    "|      5 | { 10, 10,  5 } |   25 |         0 |                              { } |\n",
    "\n",
    "Below we have the code that filters those values that are too big to be explored."
   ]
  },
  {
   "cell_type": "code",
   "execution_count": null,
   "metadata": {
    "dotnet_interactive": {
     "language": "csharp"
    }
   },
   "outputs": [
    {
     "name": "stdout",
     "output_type": "stream",
     "text": [
      "Sum: 21 -> [10, 10, 1]\n",
      "Sum: 21 -> [10, 9, 2]\n",
      "Sum: 20 -> [10, 9, 1]\n",
      "Sum: 21 -> [10, 8, 3]\n",
      "Sum: 20 -> [10, 8, 2]\n",
      "Sum: 19 -> [10, 8, 1]\n",
      "Sum: 21 -> [10, 6, 5]\n",
      "Sum: 20 -> [10, 6, 4]\n",
      "Sum: 19 -> [10, 6, 3]\n",
      "Sum: 18 -> [10, 6, 2]\n",
      "Sum: 17 -> [10, 6, 1]\n",
      "Sum: 20 -> [10, 5, 5]\n",
      "Sum: 19 -> [10, 5, 4]\n",
      "Sum: 18 -> [10, 5, 3]\n",
      "Sum: 17 -> [10, 5, 2]\n",
      "Sum: 16 -> [10, 5, 1]\n",
      "Sum: 18 -> [10, 4, 4]\n",
      "Sum: 17 -> [10, 4, 3]\n",
      "Sum: 16 -> [10, 4, 2]\n",
      "Sum: 15 -> [10, 4, 1]\n",
      "Sum: 16 -> [10, 3, 3]\n",
      "Sum: 15 -> [10, 3, 2]\n",
      "Sum: 14 -> [10, 3, 1]\n",
      "Sum: 14 -> [10, 2, 2]\n",
      "Sum: 13 -> [10, 2, 1]\n",
      "Sum: 12 -> [10, 1, 1]\n",
      "Sum: 21 -> [9, 9, 3]\n",
      "Sum: 20 -> [9, 9, 2]\n",
      "Sum: 19 -> [9, 9, 1]\n",
      "Sum: 21 -> [9, 8, 4]\n",
      "Sum: 20 -> [9, 8, 3]\n",
      "Sum: 19 -> [9, 8, 2]\n",
      "Sum: 18 -> [9, 8, 1]\n",
      "Sum: 21 -> [9, 6, 6]\n",
      "Sum: 20 -> [9, 6, 5]\n",
      "Sum: 19 -> [9, 6, 4]\n",
      "Sum: 18 -> [9, 6, 3]\n",
      "Sum: 17 -> [9, 6, 2]\n",
      "Sum: 16 -> [9, 6, 1]\n",
      "Sum: 19 -> [9, 5, 5]\n",
      "Sum: 18 -> [9, 5, 4]\n",
      "Sum: 17 -> [9, 5, 3]\n",
      "Sum: 16 -> [9, 5, 2]\n",
      "Sum: 15 -> [9, 5, 1]\n",
      "Sum: 17 -> [9, 4, 4]\n",
      "Sum: 16 -> [9, 4, 3]\n",
      "Sum: 15 -> [9, 4, 2]\n",
      "Sum: 14 -> [9, 4, 1]\n",
      "Sum: 15 -> [9, 3, 3]\n",
      "Sum: 14 -> [9, 3, 2]\n",
      "Sum: 13 -> [9, 3, 1]\n",
      "Sum: 13 -> [9, 2, 2]\n",
      "Sum: 12 -> [9, 2, 1]\n",
      "Sum: 11 -> [9, 1, 1]\n",
      "Sum: 21 -> [8, 8, 5]\n",
      "Sum: 20 -> [8, 8, 4]\n",
      "Sum: 19 -> [8, 8, 3]\n",
      "Sum: 18 -> [8, 8, 2]\n",
      "Sum: 17 -> [8, 8, 1]\n",
      "Sum: 20 -> [8, 6, 6]\n",
      "Sum: 19 -> [8, 6, 5]\n",
      "Sum: 18 -> [8, 6, 4]\n",
      "Sum: 17 -> [8, 6, 3]\n",
      "Sum: 16 -> [8, 6, 2]\n",
      "Sum: 15 -> [8, 6, 1]\n",
      "Sum: 18 -> [8, 5, 5]\n",
      "Sum: 17 -> [8, 5, 4]\n",
      "Sum: 16 -> [8, 5, 3]\n",
      "Sum: 15 -> [8, 5, 2]\n",
      "Sum: 14 -> [8, 5, 1]\n",
      "Sum: 16 -> [8, 4, 4]\n",
      "Sum: 15 -> [8, 4, 3]\n",
      "Sum: 14 -> [8, 4, 2]\n",
      "Sum: 13 -> [8, 4, 1]\n",
      "Sum: 14 -> [8, 3, 3]\n",
      "Sum: 13 -> [8, 3, 2]\n",
      "Sum: 12 -> [8, 3, 1]\n",
      "Sum: 12 -> [8, 2, 2]\n",
      "Sum: 11 -> [8, 2, 1]\n",
      "Sum: 10 -> [8, 1, 1]\n",
      "Sum: 18 -> [6, 6, 6]\n",
      "Sum: 17 -> [6, 6, 5]\n",
      "Sum: 16 -> [6, 6, 4]\n",
      "Sum: 15 -> [6, 6, 3]\n",
      "Sum: 14 -> [6, 6, 2]\n",
      "Sum: 13 -> [6, 6, 1]\n",
      "Sum: 16 -> [6, 5, 5]\n",
      "Sum: 15 -> [6, 5, 4]\n",
      "Sum: 14 -> [6, 5, 3]\n",
      "Sum: 13 -> [6, 5, 2]\n",
      "Sum: 12 -> [6, 5, 1]\n",
      "Sum: 14 -> [6, 4, 4]\n",
      "Sum: 13 -> [6, 4, 3]\n",
      "Sum: 12 -> [6, 4, 2]\n",
      "Sum: 11 -> [6, 4, 1]\n",
      "Sum: 12 -> [6, 3, 3]\n",
      "Sum: 11 -> [6, 3, 2]\n",
      "Sum: 10 -> [6, 3, 1]\n",
      "Sum: 10 -> [6, 2, 2]\n",
      "Sum: 9 -> [6, 2, 1]\n",
      "Sum: 8 -> [6, 1, 1]\n",
      "Sum: 15 -> [5, 5, 5]\n",
      "Sum: 14 -> [5, 5, 4]\n",
      "Sum: 13 -> [5, 5, 3]\n",
      "Sum: 12 -> [5, 5, 2]\n",
      "Sum: 11 -> [5, 5, 1]\n",
      "Sum: 13 -> [5, 4, 4]\n",
      "Sum: 12 -> [5, 4, 3]\n",
      "Sum: 11 -> [5, 4, 2]\n",
      "Sum: 10 -> [5, 4, 1]\n",
      "Sum: 11 -> [5, 3, 3]\n",
      "Sum: 10 -> [5, 3, 2]\n",
      "Sum: 9 -> [5, 3, 1]\n",
      "Sum: 9 -> [5, 2, 2]\n",
      "Sum: 8 -> [5, 2, 1]\n",
      "Sum: 7 -> [5, 1, 1]\n",
      "Sum: 12 -> [4, 4, 4]\n",
      "Sum: 11 -> [4, 4, 3]\n",
      "Sum: 10 -> [4, 4, 2]\n",
      "Sum: 9 -> [4, 4, 1]\n",
      "Sum: 10 -> [4, 3, 3]\n",
      "Sum: 9 -> [4, 3, 2]\n",
      "Sum: 8 -> [4, 3, 1]\n",
      "Sum: 8 -> [4, 2, 2]\n",
      "Sum: 7 -> [4, 2, 1]\n",
      "Sum: 6 -> [4, 1, 1]\n",
      "Sum: 9 -> [3, 3, 3]\n",
      "Sum: 8 -> [3, 3, 2]\n",
      "Sum: 7 -> [3, 3, 1]\n",
      "Sum: 7 -> [3, 2, 2]\n",
      "Sum: 6 -> [3, 2, 1]\n",
      "Sum: 5 -> [3, 1, 1]\n",
      "Sum: 6 -> [2, 2, 2]\n",
      "Sum: 5 -> [2, 2, 1]\n",
      "Sum: 4 -> [2, 1, 1]\n",
      "Sum: 3 -> [1, 1, 1]\n"
     ]
    }
   ],
   "source": [
    "IEnumerable<ImmutableList<long>> CombinationsUpto(long currentDenomination, long target, ImmutableList<long> accumulator, int k, long[] denoms)\n",
    "{\n",
    "\taccumulator = accumulator.Add(currentDenomination);\n",
    "\tvar remaining = target - currentDenomination;\n",
    "\tif (k == 0)\n",
    "\t\treturn new[] { accumulator };\n",
    "\t\n",
    "\tdenoms = denoms.SkipWhile(x => x > remaining).ToArray();\n",
    "\treturn denoms.SelectMany((std, i) => CombinationsUpto(std, remaining, accumulator, k - 1, denoms[i..]));\n",
    "}\n",
    "\n",
    "Print(denoms.SelectMany((std, i) => CombinationsUpto(std, target, initialState, k - 1, denoms[i..])));"
   ]
  },
  {
   "cell_type": "markdown",
   "metadata": {},
   "source": [
    "This is better because it doesn't generate lots and lots of unnecessary combinations but it still has one problems and it is that it still generates lots and lots of useless combinations because their sum is too far from the expected target. It is important to abort the generation of those combinations once we know they are not possible.\n",
    "\n",
    "For example, imagine we want to generate decompositions of $k=3$ that sum up to 12 using our previously define _standard denominations_. Imagine we are generating the first set:\n",
    "\n",
    "| target | set            | sum  | remaining | denominations available | can continue? |\n",
    "|-------:|---------------:|-----:|----------:|---------------------------------:|---------------\n",
    "|     12 |         { 10 } |   10 |         2 |  { 2, 1 } | Yes. Because there are space for 2 extra elements and 2 * 2 >= 2 (remaining). |\n",
    "|     12 |     {  6,  3 } |    9 |         3 |  { 3, 2, 1 } | Yes. Because there is space for 1 extra elements and 1 * 3 >= 3 (remaining).\n",
    "|     12 |     {  5,  3 } |    8 |         4 |  { 3, 2, 1 } | No. Because there is space for 1 extra elements and 1 * 3 < 4 (remaining)."
   ]
  },
  {
   "cell_type": "code",
   "execution_count": null,
   "metadata": {
    "dotnet_interactive": {
     "language": "csharp"
    }
   },
   "outputs": [
    {
     "name": "stdout",
     "output_type": "stream",
     "text": [
      "Sum: 21 -> [10, 10, 1]\n",
      "Sum: 21 -> [10, 9, 2]\n",
      "Sum: 21 -> [10, 8, 3]\n",
      "Sum: 21 -> [10, 6, 5]\n",
      "Sum: 21 -> [9, 9, 3]\n",
      "Sum: 21 -> [9, 8, 4]\n",
      "Sum: 21 -> [9, 6, 6]\n",
      "Sum: 21 -> [8, 8, 5]\n"
     ]
    }
   ],
   "source": [
    "IEnumerable<ImmutableList<long>> CombinationsUptoAndPrune(long currentDenomination, long target, ImmutableList<long> accumulator, int k, long[] denoms)\n",
    "{\n",
    "\taccumulator = accumulator.Add(currentDenomination);\n",
    "\tvar remaining = target - currentDenomination;\n",
    "\tif (k == 0)\n",
    "\t\treturn new[] { accumulator };\n",
    "\t\n",
    "\tdenoms = denoms.SkipWhile(x => x > remaining).ToArray();\n",
    "\treturn denoms\n",
    "\t\t.TakeWhile(std => k * std >= remaining)\n",
    "\t\t.SelectMany((std, i) => CombinationsUptoAndPrune(std, remaining, accumulator, k - 1, denoms[i..]));\n",
    "}\n",
    "\n",
    "Print(denoms.SelectMany((std, i) => CombinationsUptoAndPrune(std, target, initialState, k - 1, denoms[i..])));"
   ]
  },
  {
   "cell_type": "markdown",
   "metadata": {},
   "source": [
    "This is much much better because now we get the only 8 decompositions that sum up to 21. However, not all numbers can be expressed as the sum of other smaller positive numbers. Imagine our _standard denominations_ are just ${ 100, 50, 25, 10, 5 }$, in this case it is impossible to represent the number $21$.\n",
    "\n",
    "For this reason we need to introduce the concept of _tolerance_, defined as the acceptable difference between the expected target and the one obteined as the result of the sum of the combination individual elements."
   ]
  },
  {
   "cell_type": "code",
   "execution_count": null,
   "metadata": {
    "dotnet_interactive": {
     "language": "csharp"
    }
   },
   "outputs": [
    {
     "name": "stdout",
     "output_type": "stream",
     "text": [
      "Sum: 21 -> [10, 10, 1]\n",
      "Sum: 21 -> [10, 9, 2]\n",
      "Sum: 20 -> [10, 9, 1]\n",
      "Sum: 21 -> [10, 8, 3]\n",
      "Sum: 20 -> [10, 8, 2]\n",
      "Sum: 21 -> [10, 6, 5]\n",
      "Sum: 20 -> [10, 6, 4]\n",
      "Sum: 20 -> [10, 5, 5]\n",
      "Sum: 21 -> [9, 9, 3]\n",
      "Sum: 20 -> [9, 9, 2]\n",
      "Sum: 21 -> [9, 8, 4]\n",
      "Sum: 20 -> [9, 8, 3]\n",
      "Sum: 21 -> [9, 6, 6]\n",
      "Sum: 20 -> [9, 6, 5]\n",
      "Sum: 21 -> [8, 8, 5]\n",
      "Sum: 20 -> [8, 8, 4]\n",
      "Sum: 20 -> [8, 6, 6]\n"
     ]
    }
   ],
   "source": [
    "IEnumerable<ImmutableList<long>> CombinationsUptoAndPruneWithTolerance(long currentDenomination, long target, long tolerance, ImmutableList<long> accumulator, int k, long[] denoms)\n",
    "{\n",
    "\taccumulator = accumulator.Add(currentDenomination);\n",
    "\tvar remaining = target - currentDenomination;\n",
    "\tif (k == 0 || remaining < tolerance)\n",
    "\t\treturn new[] { accumulator };\n",
    "\t\n",
    "\tdenoms = denoms.Where(x => x <= remaining).ToArray();\n",
    "\treturn denoms\n",
    "\t\t.TakeWhile(std => k * std >= remaining - tolerance)\n",
    "\t\t.SelectMany((std, i) => CombinationsUptoAndPruneWithTolerance(std, remaining, tolerance, accumulator, k - 1, denoms[i..]));\n",
    "}\n",
    "\n",
    "Print(denoms.SelectMany((std, i) => CombinationsUptoAndPruneWithTolerance(std, target, tolerance, initialState, k - 1, denoms[i..])));"
   ]
  },
  {
   "cell_type": "markdown",
   "metadata": {},
   "source": [
    "# Do not explore further once a much is find\n",
    "\n",
    "This version looks better, right? But if take a look at the 3rd result ($[10, 9, 1]$ = 20) we should ask why!? What's the point of that combination? Clearly if we explore the combinations in expanding the template (accumulator) with standard denominations in descending order then, it is silly to continue searching for combinations once we have already found one exact much because all the subsecuent combinations will sum less."
   ]
  },
  {
   "cell_type": "markdown",
   "metadata": {},
   "source": [
    "We will need a linq extension to make the code look easier. `TakeUnti` is a method that takes a sequence and returns a sequence of elements until a condition is met with the first element that meets the condition included."
   ]
  },
  {
   "cell_type": "code",
   "execution_count": null,
   "metadata": {
    "dotnet_interactive": {
     "language": "csharp"
    }
   },
   "outputs": [],
   "source": [
    "static IEnumerable<T> TakeUntil<T>(this IEnumerable<T> source, Func<T, bool> predicate)\n",
    "{\n",
    "\tforeach(T el in source)\n",
    "\t{\n",
    "\t\tyield return el;\n",
    "\t\tif (predicate(el))\n",
    "\t\t\tyield break;\n",
    "\t}\n",
    "}"
   ]
  },
  {
   "cell_type": "code",
   "execution_count": null,
   "metadata": {
    "dotnet_interactive": {
     "language": "csharp"
    }
   },
   "outputs": [
    {
     "name": "stdout",
     "output_type": "stream",
     "text": [
      "Sum: 21 -> [10, 10, 1]\n",
      "Sum: 21 -> [10, 9, 2]\n",
      "Sum: 21 -> [10, 8, 3]\n",
      "Sum: 21 -> [10, 6, 5]\n",
      "Sum: 20 -> [10, 5, 5]\n",
      "Sum: 21 -> [9, 9, 3]\n",
      "Sum: 21 -> [9, 8, 4]\n",
      "Sum: 21 -> [9, 6, 6]\n",
      "Sum: 21 -> [8, 8, 5]\n",
      "Sum: 20 -> [8, 6, 6]\n"
     ]
    }
   ],
   "source": [
    "IEnumerable<ImmutableList<long>> CombinationsUptoAndPruneWithTolerance2(long currentDenomination, long target, long localTarget, long tolerance, ImmutableList<long> accumulator, int k, long[] denoms)\n",
    "{\n",
    "\taccumulator = accumulator.Add(currentDenomination);\n",
    "\tvar remaining = localTarget - currentDenomination;\n",
    "\tif (k == 0 || remaining < tolerance)\n",
    "\t\treturn new[] { accumulator };\n",
    "\t\n",
    "\tdenoms = denoms.Where(x => x <= remaining).ToArray();\n",
    "\treturn denoms\n",
    "\t\t.TakeWhile(std => k * std >= remaining - tolerance)\n",
    "\t\t.SelectMany((std, i) => \n",
    "\t\t\tCombinationsUptoAndPruneWithTolerance2(std, target, remaining, tolerance, accumulator, k - 1, denoms[i..])\n",
    "\t\t\t.TakeUntil(x => x.Sum() == target));\n",
    "}\n",
    "\n",
    "Print(denoms.SelectMany((std, i) => CombinationsUptoAndPruneWithTolerance2(std, target, target, tolerance, initialState, k - 1, denoms[i..])));"
   ]
  },
  {
   "cell_type": "markdown",
   "metadata": {},
   "source": []
  },
  {
   "cell_type": "markdown",
   "metadata": {},
   "source": [
    "# Optimization (first part)\n",
    "\n",
    "In all previous code snippets we have used an `ImmutableList` as accumulator bacause it makes an efficient usage of memory given it is implemented with Avl trees. However, we want to reduce the heap allocations and total memory usage as much as possible what is doable if we introduce some assumptions:\n",
    "\n",
    "* $k$ will never be greater than $8$ and,\n",
    "* $len(standarddenoms)$ will never be larger than $2^8$\n",
    "\n",
    "With this we can use an `ulong` to store the indexes of the _standard denomination_ instead of their values. \n",
    "\n"
   ]
  },
  {
   "cell_type": "code",
   "execution_count": null,
   "metadata": {
    "dotnet_interactive": {
     "language": "csharp"
    }
   },
   "outputs": [],
   "source": [
    "IEnumerable<(long Sum, ulong Decomposition)> CompactCombinationsOfIndexesUptoAndPruneWithTolerance(int currentDenominationIdx, long target, long localTarget, long tolerance, ulong accumulator, long sum, int k, long[] denoms)\n",
    "{\n",
    "\taccumulator = (accumulator << 8) | ((ulong)currentDenominationIdx & 0xff);\n",
    "\tvar currentDenomination = denoms[currentDenominationIdx];\n",
    "\tsum += currentDenomination;\n",
    "\tvar remaining = localTarget - currentDenomination;\n",
    "\tif (k == 0 || remaining < tolerance)\n",
    "\t\treturn new[] { (sum, accumulator) };\n",
    "\n",
    "\tcurrentDenominationIdx += denoms.Skip(currentDenominationIdx).Count(x => x > remaining);\n",
    "\treturn Enumerable.Range(0, denoms.Length - currentDenominationIdx)\n",
    "\t\t.TakeWhile(i => k * denoms[currentDenominationIdx + i] >= remaining - tolerance)\n",
    "\t\t.SelectMany((_, i) => \n",
    "\t\t\tCompactCombinationsOfIndexesUptoAndPruneWithTolerance(currentDenominationIdx + i, target, remaining, tolerance, accumulator, sum, k - 1, denoms)\n",
    "\t\t\t.TakeUntil(x => x.Sum == target));\n",
    "}\n",
    "\n"
   ]
  },
  {
   "cell_type": "code",
   "execution_count": null,
   "metadata": {
    "dotnet_interactive": {
     "language": "csharp"
    }
   },
   "outputs": [],
   "source": [
    "void Print(IEnumerable<(long Sum, ulong Decomposition)> decompositions)\n",
    "{\n",
    "\tforeach (var (composition, row) in decompositions.Select((x,r) => (x, r)))\n",
    "\t{\n",
    "\t\tvar indexes = BitConverter.GetBytes(composition.Decomposition);\n",
    "\t\tvar remaining = composition.Sum;\n",
    "\t\tvar i = 0;\n",
    "\t\tvar list = new List<long>();\n",
    "\t\tdo\n",
    "\t\t{\n",
    "\t\t\tvar val = denoms[indexes[i++]];\n",
    "\t\t\tlist.Insert(0, val);\n",
    "\t\t\tremaining -= val;\n",
    "\t\t}while(remaining > 0);\n",
    "\t\tConsole.WriteLine(\"#{0} Sum: {1} -> [{2}]\", row, composition.Sum, string.Join(\", \", list));\n",
    "\t}\n",
    "}"
   ]
  },
  {
   "cell_type": "code",
   "execution_count": null,
   "metadata": {
    "dotnet_interactive": {
     "language": "csharp"
    }
   },
   "outputs": [
    {
     "name": "stdout",
     "output_type": "stream",
     "text": [
      "#0 Sum: 21 -> [10, 10, 1]\n",
      "#1 Sum: 21 -> [10, 9, 2]\n",
      "#2 Sum: 21 -> [10, 8, 3]\n",
      "#3 Sum: 21 -> [10, 6, 5]\n",
      "#4 Sum: 20 -> [10, 5, 5]\n",
      "#5 Sum: 21 -> [9, 9, 3]\n",
      "#6 Sum: 21 -> [9, 8, 4]\n",
      "#7 Sum: 21 -> [9, 6, 6]\n",
      "#8 Sum: 21 -> [8, 8, 5]\n",
      "#9 Sum: 20 -> [8, 6, 6]\n"
     ]
    }
   ],
   "source": [
    "Print(denoms.SelectMany((_, i) => CompactCombinationsOfIndexesUptoAndPruneWithTolerance(i, target, target, tolerance, 0ul, 0, k - 1, denoms)));"
   ]
  },
  {
   "cell_type": "code",
   "execution_count": null,
   "metadata": {
    "dotnet_interactive": {
     "language": "csharp"
    }
   },
   "outputs": [
    {
     "name": "stdout",
     "output_type": "stream",
     "text": [
      "#0 Sum: 21 -> [10, 10, 1]\n",
      "#1 Sum: 21 -> [10, 9, 2]\n",
      "#2 Sum: 21 -> [10, 8, 3]\n",
      "#3 Sum: 21 -> [10, 6, 5]\n",
      "#4 Sum: 20 -> [10, 5, 5]\n",
      "#5 Sum: 21 -> [9, 9, 3]\n",
      "#6 Sum: 21 -> [9, 8, 4]\n",
      "#7 Sum: 21 -> [9, 6, 6]\n",
      "#8 Sum: 21 -> [8, 8, 5]\n",
      "#9 Sum: 20 -> [8, 6, 6]\n"
     ]
    }
   ],
   "source": [
    "IEnumerable<(long Sum, ulong Decomposition)> cx(int currentDenominationIdx, long target, long localTarget, long tolerance, ulong accumulator, long sum, int k, long[] denoms)\n",
    "{\n",
    "\taccumulator = (accumulator << 8) | ((ulong)currentDenominationIdx & 0xff);\n",
    "\tvar currentDenomination = denoms[currentDenominationIdx];\n",
    "\tsum += currentDenomination;\n",
    "\tvar remaining = localTarget - currentDenomination;\n",
    "\tif (k == 0 || remaining < tolerance)\n",
    "\t\treturn new[] { (sum, accumulator) };\n",
    "\n",
    "\tcurrentDenominationIdx += denoms.Skip(currentDenominationIdx).Count(x => x > remaining);\n",
    "\treturn Enumerable.Range(0, denoms.Length - currentDenominationIdx)\n",
    "\t\t.TakeWhile(i => k * denoms[currentDenominationIdx + i] >= remaining - tolerance)\n",
    "\t\t.SelectMany((_, i) => \n",
    "\t\t\tcx(currentDenominationIdx + i, target, remaining, tolerance, accumulator, sum, k - 1, denoms)\n",
    "\t\t\t.TakeUntil(x => x.Sum == target));\n",
    "}\n",
    "\n",
    "\n",
    "Print(denoms.SelectMany((_, i) => cx(i, target, target, tolerance, 0ul, 0, k - 1, denoms)));\n"
   ]
  },
  {
   "cell_type": "markdown",
   "metadata": {},
   "source": [
    "We have now a higher quality result set but the code is a bit hard to follow basically because of the long list of parameters but that can be improved easily. Let start by extracting those that are constant."
   ]
  },
  {
   "cell_type": "code",
   "execution_count": null,
   "metadata": {
    "dotnet_interactive": {
     "language": "csharp"
    }
   },
   "outputs": [
    {
     "name": "stdout",
     "output_type": "stream",
     "text": [
      "#0 Sum: 21 -> [10, 10, 1]\n",
      "#1 Sum: 21 -> [10, 9, 2]\n",
      "#2 Sum: 21 -> [10, 8, 3]\n",
      "#3 Sum: 21 -> [10, 6, 5]\n",
      "#4 Sum: 20 -> [10, 5, 5]\n",
      "#5 Sum: 21 -> [9, 9, 3]\n",
      "#6 Sum: 21 -> [9, 8, 4]\n",
      "#7 Sum: 21 -> [9, 6, 6]\n",
      "#8 Sum: 21 -> [8, 8, 5]\n",
      "#9 Sum: 20 -> [8, 6, 6]\n"
     ]
    }
   ],
   "source": [
    "IEnumerable<(long Sum, ulong Decomposition)> cyy(long target, long tolerance, int kk, long[] denoms)\n",
    "{\n",
    "\tIEnumerable<(long Sum, ulong Decomposition)> cxx(int currentDenominationIdx, ulong accumulator, long sum, int k)\n",
    "\t{\n",
    "\t\taccumulator = (accumulator << 8) | ((ulong)currentDenominationIdx & 0xff);\n",
    "\t\tvar currentDenomination = denoms[currentDenominationIdx];\n",
    "\t\tsum += currentDenomination;\n",
    "\t\tvar remaining = target - sum;\n",
    "\t\tif (k == 0 || remaining < tolerance)\n",
    "\t\t\treturn new[] { (sum, accumulator) };\n",
    "\n",
    "\t\tcurrentDenominationIdx += denoms.Skip(currentDenominationIdx).Count(x => x > remaining);\n",
    "\t\treturn Enumerable.Range(0, denoms.Length - currentDenominationIdx)\n",
    "\t\t\t.TakeWhile(i => k * denoms[currentDenominationIdx + i] >= remaining - tolerance)\n",
    "\t\t\t.SelectMany((_, i) => \n",
    "\t\t\t\tcxx(currentDenominationIdx + i, accumulator, sum, k - 1)\n",
    "\t\t\t\t.TakeUntil(x => x.Sum == target));\n",
    "\t}\n",
    "\n",
    "\treturn denoms.SelectMany((_, i) => cxx(i, 0ul, 0, kk - 1));\n",
    "}\n",
    "\n",
    "Print(cyy(target, tolerance, k, denoms));\n"
   ]
  }
 ],
 "metadata": {
  "kernelspec": {
   "display_name": ".NET (C#)",
   "language": "C#",
   "name": ".net-csharp"
  },
  "language_info": {
   "file_extension": ".cs",
   "mimetype": "text/x-csharp",
   "name": "C#",
   "pygments_lexer": "csharp",
   "version": "8.0"
  }
 },
 "nbformat": 4,
 "nbformat_minor": 2
}
